{
 "cells": [
  {
   "cell_type": "markdown",
   "id": "9b7a0df5",
   "metadata": {},
   "source": [
    "# Sakshi Blood Bank \n",
    "\n",
    "About - This is small project where , we used the variables and Constants. With the help of Variables , first we take the input user and from there we asked there name, age and blood type .Through this small piece of code we are creating the small application for blood bank."
   ]
  },
  {
   "cell_type": "markdown",
   "id": "00c78326",
   "metadata": {},
   "source": [
    "## Variables and Constants"
   ]
  },
  {
   "cell_type": "code",
   "execution_count": 1,
   "id": "852eefc8",
   "metadata": {},
   "outputs": [],
   "source": [
    "LEGAL_AGE = 18\n",
    "patient_name =\"Tushar Bhalerao\"\n",
    "patient_age = 23\n",
    "patient_from = \"Pune\"\n",
    "blood_type = \"A+\"\n",
    "patient_gender = \"Male\"\n",
    "price = 2000 #per litre \n",
    "Terms_policies = True "
   ]
  },
  {
   "cell_type": "code",
   "execution_count": 2,
   "id": "8542ad5d",
   "metadata": {},
   "outputs": [
    {
     "name": "stdout",
     "output_type": "stream",
     "text": [
      "Tushar Bhalerao\n"
     ]
    }
   ],
   "source": [
    "print(patient_name) #Print the patient name "
   ]
  },
  {
   "cell_type": "code",
   "execution_count": 3,
   "id": "4ae662a1",
   "metadata": {},
   "outputs": [
    {
     "data": {
      "text/plain": [
       "bool"
      ]
     },
     "execution_count": 3,
     "metadata": {},
     "output_type": "execute_result"
    }
   ],
   "source": [
    "type(Terms_policies) #Finding type of the Variable name "
   ]
  },
  {
   "cell_type": "code",
   "execution_count": 4,
   "id": "d1b28058",
   "metadata": {},
   "outputs": [
    {
     "data": {
      "text/plain": [
       "int"
      ]
     },
     "execution_count": 4,
     "metadata": {},
     "output_type": "execute_result"
    }
   ],
   "source": [
    "type(patient_age)  #finding type of Variable name  "
   ]
  },
  {
   "cell_type": "markdown",
   "id": "a2b26a81",
   "metadata": {},
   "source": [
    "## Taking the input from the user "
   ]
  },
  {
   "cell_type": "code",
   "execution_count": 5,
   "id": "21e407e0",
   "metadata": {},
   "outputs": [
    {
     "name": "stdout",
     "output_type": "stream",
     "text": [
      "+++++++ SAKSHI BLOOD BANK BOOKING SYSTEM +++++++\n",
      "+++++++ Patient's Details +++++++\n",
      "Enter your name : Tushar bhalerao\n",
      "Enter your age: 23\n",
      "From: pune\n",
      "Gender: male\n",
      "Blood Type: A+\n",
      "I agree to the terms and conditions [True/False]True\n"
     ]
    }
   ],
   "source": [
    "print(\"+++++++ SAKSHI BLOOD BANK BOOKING SYSTEM +++++++\")\n",
    "print(\"+++++++ Patient's Details +++++++\")\n",
    "patient_name=input('Enter your name : ')\n",
    "patient_age=int(input('Enter your age: '))\n",
    "source=input('From: ')     \n",
    "source=input('Gender: ')\n",
    "source=input('Blood Type: ')\n",
    "terms_conditions=bool(input('I agree to the terms and conditions [True/False]'))      \n"
   ]
  },
  {
   "cell_type": "code",
   "execution_count": 8,
   "id": "39320ffe",
   "metadata": {},
   "outputs": [
    {
     "name": "stdout",
     "output_type": "stream",
     "text": [
      "+++++++ Booking Details +++++++\n",
      "Passenger Name : Tushar bhalerao\n",
      "Passenger's Age : 23\n",
      "Source: A+\n",
      "[ True ] I agree to the terms and conditions\n"
     ]
    }
   ],
   "source": [
    "print(\"+++++++ Booking Details +++++++\")\n",
    "print(\"Passenger Name :\" ,patient_name)\n",
    "print(\"Passenger's Age :\" ,patient_age)\n",
    "print(\"Source:\" ,source)\n",
    "print(\"[\",terms_conditions,\"] I agree to the terms and conditions\")"
   ]
  },
  {
   "cell_type": "code",
   "execution_count": 9,
   "id": "a4f385c6",
   "metadata": {},
   "outputs": [
    {
     "name": "stdout",
     "output_type": "stream",
     "text": [
      "Sakshi Blood Bank\n",
      "Pune\n",
      "PUNE2021\n",
      "100 Patients per Day\n"
     ]
    }
   ],
   "source": [
    "import Blood_bank as bl\n",
    "print(bl.Bloodbank_name)\n",
    "print(bl.Bloodbank_Branch)\n",
    "print(bl.Bloodbank_code)\n",
    "print(bl.Bloodbank_capacity)\n"
   ]
  },
  {
   "cell_type": "code",
   "execution_count": null,
   "id": "a6a51094",
   "metadata": {},
   "outputs": [],
   "source": []
  }
 ],
 "metadata": {
  "kernelspec": {
   "display_name": "Python 3",
   "language": "python",
   "name": "python3"
  },
  "language_info": {
   "codemirror_mode": {
    "name": "ipython",
    "version": 3
   },
   "file_extension": ".py",
   "mimetype": "text/x-python",
   "name": "python",
   "nbconvert_exporter": "python",
   "pygments_lexer": "ipython3",
   "version": "3.8.8"
  }
 },
 "nbformat": 4,
 "nbformat_minor": 5
}
